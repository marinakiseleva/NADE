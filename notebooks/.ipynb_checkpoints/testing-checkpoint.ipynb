{
 "cells": [
  {
   "cell_type": "code",
   "execution_count": 1,
   "metadata": {},
   "outputs": [],
   "source": [
    "import sys\n",
    "sys.path.append(\"../deepnade/buml\")\n",
    "sys.path.append(\"../deepnade\")\n",
    "\n",
    "import os\n",
    "from optparse import OptionParser\n",
    "import Instrumentation\n",
    "import Backends\n",
    "import Optimization\n",
    "import TrainingController\n",
    "import numpy as np\n",
    "import Utils\n",
    "import Data.utils\n",
    "import scipy.stats\n",
    "import gc\n",
    "from Utils.DropoutMask import create_dropout_masks\n",
    "from Utils.theano_helpers import floatX\n",
    "\n",
    "import h5py\n",
    "\n",
    "import NADE\n",
    "\n",
    "from orderlessNADE import *"
   ]
  },
  {
   "cell_type": "code",
   "execution_count": 2,
   "metadata": {},
   "outputs": [],
   "source": [
    "parser = get_parser()\n",
    "\n",
    "os.environ[\"RESULTSPATH\"] = \"/Users/marina/Documents/PhD/research/astro_research/code/NADE/output/\"\n",
    "os.environ[\"DATASETSPATH\"] = \"/Users/marina/Documents/PhD/research/astro_research/code/NADE/deepnade/\"\n"
   ]
  },
  {
   "cell_type": "code",
   "execution_count": 8,
   "metadata": {},
   "outputs": [],
   "source": [
    "options, args =parser.parse_args([\"--theano\", \n",
    "                                  \"--form\", \"MoG\", \n",
    "                                  \"--dataset\", \"red_wine.hdf5\", \n",
    "                                  \"--training_route\", \"/folds/1/training/(1|2|3|4|5|6|7|8)\",\n",
    "                                 \"--validation_route\", \"/folds/1/training/9\",\n",
    "                                 \"--test_route\", \"/folds/1/tests/.*\",\n",
    "                                 \"--samples_name\", \"data\",\n",
    "                                 \"--hlayers\", \"2\",\n",
    "                                  \"--layerwise\",\n",
    "                                  \"--lr\", \"0.02\",\n",
    "                                  \"--wd\", \"0.02\",\n",
    "                                  \"--n_components\", \"10\",\n",
    "                                  \"--epoch_size\", \"100\",\n",
    "                                  \"--momentum\", \"0.9\",\n",
    "                                  \"--units\", \"100\",\n",
    "                                  \"--pretraining_epochs\", \"5\",\n",
    "                                  \"--validation_loops\", \"20\",\n",
    "                                  \"--epochs\", \"20\",\n",
    "                                  \"--normalize\",\n",
    "                                  \"--batch_size\", \"100\",\n",
    "                                  \"--show_training_stop\", \"red_wine\"])\n",
    "\n"
   ]
  },
  {
   "cell_type": "code",
   "execution_count": 9,
   "metadata": {},
   "outputs": [],
   "source": [
    "if options.theano:\n",
    "    import NADE\n",
    "else:\n",
    "    import npNADE as NADE\n",
    "    raise Exception(\"Not implemented yet\")\n",
    "\n",
    "results_route = os.path.join(os.environ[\"RESULTSPATH\"], args[0])\n",
    "try:\n",
    "    os.makedirs(results_route)\n",
    "except OSError:\n",
    "    pass\n",
    "\n",
    "console = Backends.Console()\n",
    "textfile_log = Backends.TextFile(os.path.join(results_route, \"NADE_training.log\"))\n",
    "hdf5_backend = Backends.HDF5(results_route, \"NADE\")\n",
    "hdf5_backend.write([], \"options\", options)\n",
    "hdf5_backend.write([], \"svn_revision\", Utils.svn.svnversion())\n",
    "hdf5_backend.write([], \"svn_status\", Utils.svn.svnstatus())\n",
    "hdf5_backend.write([], \"svn_diff\", Utils.svn.svndiff())"
   ]
  },
  {
   "cell_type": "code",
   "execution_count": 10,
   "metadata": {},
   "outputs": [
    {
     "name": "stdout",
     "output_type": "stream",
     "text": [
      "\n",
      "\n",
      " BIG DATASET Working on /Users/marina/Documents/PhD/research/astro_research/code/NADE/deepnade/red_wine.hdf5\n",
      "Entries /folds/1/training/(1|2|3|4|5|6|7|8)\n",
      "New entries [<HDF5 group \"/\" (2 members)>]\n",
      "Pats ['folds', '1', 'training', '(1|2|3|4|5|6|7|8)']\n",
      "FINAL entries length: 8\n",
      "\n",
      "\n",
      " BIG DATASET Working on /Users/marina/Documents/PhD/research/astro_research/code/NADE/deepnade/red_wine.hdf5\n",
      "Entries /folds/1/training/9\n",
      "New entries [<HDF5 group \"/\" (2 members)>]\n",
      "Pats ['folds', '1', 'training', '9']\n",
      "FINAL entries length: 1\n",
      "\n",
      "\n",
      " BIG DATASET Working on /Users/marina/Documents/PhD/research/astro_research/code/NADE/deepnade/red_wine.hdf5\n",
      "Entries /folds/1/tests/.*\n",
      "New entries [<HDF5 group \"/\" (2 members)>]\n",
      "Pats ['folds', '1', 'tests', '.*']\n",
      "FINAL entries length: 1\n",
      "\n",
      "\n",
      " BIG DATASET Working on /var/folders/wv/_wh4dxyj3ng73fr13vk_n3700000gn/T/tmp7z2H2p\n",
      "Entries /folds/1/training/(1|2|3|4|5|6|7|8)\n",
      "New entries [<HDF5 group \"/\" (1 members)>]\n",
      "Pats ['folds', '1', 'training', '(1|2|3|4|5|6|7|8)']\n",
      "FINAL entries length: 8\n",
      "\n",
      "\n",
      " BIG DATASET Working on /var/folders/wv/_wh4dxyj3ng73fr13vk_n3700000gn/T/tmptJefc1\n",
      "Entries /folds/1/training/9\n",
      "New entries [<HDF5 group \"/\" (1 members)>]\n",
      "Pats ['folds', '1', 'training', '9']\n",
      "FINAL entries length: 1\n",
      "\n",
      "\n",
      " BIG DATASET Working on /var/folders/wv/_wh4dxyj3ng73fr13vk_n3700000gn/T/tmp4CyvU4\n",
      "Entries /folds/1/tests/.*\n",
      "New entries [<HDF5 group \"/\" (1 members)>]\n",
      "Pats ['folds', '1', 'tests', '.*']\n",
      "FINAL entries length: 1\n",
      "\n",
      "\n",
      " BIG DATASET Working on /Users/marina/Documents/PhD/research/astro_research/code/NADE/deepnade/red_wine.hdf5.float64.masks.hdf5\n",
      "Entries masks/.*\n",
      "New entries [<HDF5 group \"/\" (1 members)>]\n",
      "Pats ['masks', '.*']\n",
      "FINAL entries length: 1000\n"
     ]
    },
    {
     "name": "stderr",
     "output_type": "stream",
     "text": [
      "../deepnade/buml/Data/BigDataset.py:103: H5pyDeprecationWarning: dataset.value has been deprecated. Use dataset[()] instead.\n",
      "  return np.array(self.files[element][index].value)  # , order='C')\n"
     ]
    }
   ],
   "source": [
    "training_dataset, validation_dataset, test_dataset, masks_dataset = prep_datasets(options, hdf5_backend)"
   ]
  },
  {
   "cell_type": "code",
   "execution_count": null,
   "metadata": {},
   "outputs": [],
   "source": []
  },
  {
   "cell_type": "code",
   "execution_count": null,
   "metadata": {},
   "outputs": [],
   "source": []
  }
 ],
 "metadata": {
  "kernelspec": {
   "display_name": "nade",
   "language": "python",
   "name": "nade"
  },
  "language_info": {
   "codemirror_mode": {
    "name": "ipython",
    "version": 2
   },
   "file_extension": ".py",
   "mimetype": "text/x-python",
   "name": "python",
   "nbconvert_exporter": "python",
   "pygments_lexer": "ipython2",
   "version": "2.7.16"
  }
 },
 "nbformat": 4,
 "nbformat_minor": 4
}
