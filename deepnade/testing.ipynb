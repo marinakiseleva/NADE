{
 "cells": [
  {
   "cell_type": "markdown",
   "metadata": {},
   "source": [
    "## Data\n",
    "pull down some data\n"
   ]
  },
  {
   "cell_type": "code",
   "execution_count": 3,
   "metadata": {},
   "outputs": [
    {
     "name": "stdout",
     "output_type": "stream",
     "text": [
      "\n",
      "\n",
      " BIG DATASET Working on red_wine.hdf5\n",
      "Entries /folds/1/training/(1|2|3|4|5|6|7|8)\n"
     ]
    }
   ],
   "source": [
    "import sys\n",
    "sys.path\n",
    "sys.path.append('buml') \n",
    "import os\n",
    "import Data.utils\n",
    "os.environ[\"DATASETSPATH\"]=\"\"\n",
    "data_source = \"red_wine.hdf5\"\n",
    "training = \"/folds/1/training/(1|2|3|4|5|6|7|8)\"\n",
    "dataset_file = os.path.join(os.environ[\"DATASETSPATH\"], data_source)\n",
    "training_dataset = Data.BigDataset(dataset_file, training, \"data\")"
   ]
  },
  {
   "cell_type": "code",
   "execution_count": 7,
   "metadata": {},
   "outputs": [],
   "source": [
    "a=training_dataset.sample_data(2)"
   ]
  },
  {
   "cell_type": "code",
   "execution_count": 10,
   "metadata": {},
   "outputs": [
    {
     "data": {
      "text/plain": [
       "(array([[ 8.    ,  0.42  ,  0.17  ,  2.    ,  0.073 ,  6.    , 18.    ,\n",
       "          0.9972,  3.29  ,  0.61  ,  9.2   ],\n",
       "        [10.4   ,  0.24  ,  0.49  ,  1.8   ,  0.075 ,  6.    , 20.    ,\n",
       "          0.9977,  3.18  ,  1.06  , 11.    ]], dtype=float32),)"
      ]
     },
     "execution_count": 10,
     "metadata": {},
     "output_type": "execute_result"
    }
   ],
   "source": [
    "a"
   ]
  },
  {
   "cell_type": "code",
   "execution_count": 12,
   "metadata": {},
   "outputs": [
    {
     "data": {
      "text/plain": [
       "'/folds/1/training/(1|2|3|4|5|6|7|8)'"
      ]
     },
     "execution_count": 12,
     "metadata": {},
     "output_type": "execute_result"
    }
   ],
   "source": [
    "training_dataset.entries_regexp"
   ]
  },
  {
   "cell_type": "code",
   "execution_count": 13,
   "metadata": {},
   "outputs": [
    {
     "data": {
      "text/plain": [
       "1"
      ]
     },
     "execution_count": 13,
     "metadata": {},
     "output_type": "execute_result"
    }
   ],
   "source": [
    "len(training_dataset.element_names)"
   ]
  },
  {
   "cell_type": "code",
   "execution_count": 15,
   "metadata": {},
   "outputs": [],
   "source": [
    "import numpy as np\n",
    "file_index = np.random.randint(0, training_dataset.get_n_files())"
   ]
  },
  {
   "cell_type": "code",
   "execution_count": 17,
   "metadata": {},
   "outputs": [
    {
     "data": {
      "text/plain": [
       "8"
      ]
     },
     "execution_count": 17,
     "metadata": {},
     "output_type": "execute_result"
    }
   ],
   "source": [
    "training_dataset.get_n_files()"
   ]
  },
  {
   "cell_type": "code",
   "execution_count": 16,
   "metadata": {},
   "outputs": [
    {
     "data": {
      "text/plain": [
       "5"
      ]
     },
     "execution_count": 16,
     "metadata": {},
     "output_type": "execute_result"
    }
   ],
   "source": [
    "file_index"
   ]
  },
  {
   "cell_type": "code",
   "execution_count": 19,
   "metadata": {},
   "outputs": [
    {
     "data": {
      "text/plain": [
       "array([ 6.3   ,  0.47  ,  0.    ,  1.4   ,  0.055 , 27.    , 33.    ,\n",
       "        0.9922,  3.45  ,  0.48  , 12.3   ], dtype=float32)"
      ]
     },
     "execution_count": 19,
     "metadata": {},
     "output_type": "execute_result"
    }
   ],
   "source": [
    "i=0\n",
    "file_index=2\n",
    "index=2\n",
    "training_dataset.get_file(i, file_index)[ index:index + training_dataset.block_lengths[i], :].flatten()"
   ]
  },
  {
   "cell_type": "code",
   "execution_count": 22,
   "metadata": {},
   "outputs": [
    {
     "data": {
      "text/plain": [
       "array([[ 7.9  ,  0.31 ,  0.32 , ...,  3.41 ,  0.56 , 12.6  ],\n",
       "       [11.2  ,  0.4  ,  0.5  , ...,  3.1  ,  0.58 , 10.4  ],\n",
       "       [ 6.3  ,  0.47 ,  0.   , ...,  3.45 ,  0.48 , 12.3  ],\n",
       "       ...,\n",
       "       [ 8.3  ,  0.26 ,  0.37 , ...,  3.26 ,  0.7  ,  9.6  ],\n",
       "       [ 7.5  ,  0.685,  0.07 , ...,  3.38 ,  0.55 , 10.9  ],\n",
       "       [ 6.4  ,  0.64 ,  0.21 , ...,  3.59 ,  0.66 ,  9.8  ]],\n",
       "      dtype=float32)"
      ]
     },
     "execution_count": 22,
     "metadata": {},
     "output_type": "execute_result"
    }
   ],
   "source": [
    "training_dataset.get_file(i, file_index)"
   ]
  },
  {
   "cell_type": "code",
   "execution_count": null,
   "metadata": {},
   "outputs": [],
   "source": []
  },
  {
   "cell_type": "code",
   "execution_count": 1,
   "metadata": {},
   "outputs": [],
   "source": [
    "import sys\n",
    "sys.path.append(\"../deepnade/buml\")\n",
    "sys.path.append(\"../deepnade\")\n",
    "\n",
    "import os\n",
    "from optparse import OptionParser\n",
    "import Instrumentation\n",
    "import Backends\n",
    "import Optimization\n",
    "import TrainingController\n",
    "import numpy as np\n",
    "import Utils\n",
    "import Data.utils\n",
    "import scipy.stats\n",
    "import gc\n",
    "from Utils.DropoutMask import create_dropout_masks\n",
    "from Utils.theano_helpers import floatX\n",
    "\n",
    "import h5py\n",
    "\n",
    "import NADE\n",
    "\n",
    "from orderlessNADE import *"
   ]
  },
  {
   "cell_type": "code",
   "execution_count": null,
   "metadata": {},
   "outputs": [],
   "source": []
  },
  {
   "cell_type": "code",
   "execution_count": 3,
   "metadata": {},
   "outputs": [],
   "source": [
    "parser = get_parser()\n",
    "\n",
    "os.environ[\"RESULTSPATH\"] = \"/Users/marina/Documents/PhD/research/astro_research/code/NADE/output/\"\n",
    "os.environ[\"DATASETSPATH\"] = \"/Users/marina/Documents/PhD/research/astro_research/code/NADE/deepnade/\"\n"
   ]
  },
  {
   "cell_type": "code",
   "execution_count": 4,
   "metadata": {},
   "outputs": [],
   "source": [
    "options, args =parser.parse_args([\"--theano\", \n",
    "                                  \"--form\", \"MoG\", \n",
    "                                  \"--dataset\", \"red_wine.hdf5\", \n",
    "                                  \"--training_route\", \"/folds/1/training/(1|2|3|4|5|6|7|8)\",\n",
    "                                 \"--validation_route\", \"/folds/1/training/9\",\n",
    "                                 \"--test_route\", \"/folds/1/tests/.*\",\n",
    "                                 \"--samples_name\", \"data\",\n",
    "                                 \"--hlayers\", \"2\", # 2 hidden layers\n",
    "                                  \"--layerwise\",\n",
    "                                  \"--lr\", \"0.02\",\n",
    "                                  \"--wd\", \"0.02\",\n",
    "                                  \"--n_components\", \"10\",\n",
    "                                  \"--epoch_size\", \"100\",\n",
    "                                  \"--momentum\", \"0.9\",\n",
    "                                  \"--units\", \"100\",\n",
    "                                  \"--pretraining_epochs\", \"5\",\n",
    "                                  \"--validation_loops\", \"20\",\n",
    "                                  \"--epochs\", \"20\",\n",
    "                                  \"--normalize\",\n",
    "                                  \"--batch_size\", \"100\",\n",
    "                                  \"--show_training_stop\", \"red_wine\"])\n",
    "\n"
   ]
  },
  {
   "cell_type": "code",
   "execution_count": 5,
   "metadata": {},
   "outputs": [],
   "source": [
    "if options.theano:\n",
    "    import NADE\n",
    "else:\n",
    "    import npNADE as NADE\n",
    "    raise Exception(\"Not implemented yet\")\n",
    "\n",
    "results_route = os.path.join(os.environ[\"RESULTSPATH\"], args[0])\n",
    "try:\n",
    "    os.makedirs(results_route)\n",
    "except OSError:\n",
    "    pass\n",
    "\n",
    "console = Backends.Console()\n",
    "textfile_log = Backends.TextFile(os.path.join(results_route, \"NADE_training.log\"))\n",
    "hdf5_backend = Backends.HDF5(results_route, \"NADE\")\n",
    "hdf5_backend.write([], \"options\", options)\n",
    "hdf5_backend.write([], \"svn_revision\", Utils.svn.svnversion())\n",
    "hdf5_backend.write([], \"svn_status\", Utils.svn.svnstatus())\n",
    "hdf5_backend.write([], \"svn_diff\", Utils.svn.svndiff())"
   ]
  },
  {
   "cell_type": "code",
   "execution_count": 6,
   "metadata": {},
   "outputs": [
    {
     "name": "stdout",
     "output_type": "stream",
     "text": [
      "\n",
      "\n",
      " BIG DATASET Working on /Users/marina/Documents/PhD/research/astro_research/code/NADE/deepnade/red_wine.hdf5\n",
      "Entries /folds/1/training/(1|2|3|4|5|6|7|8)\n",
      "New entries [<HDF5 group \"/\" (2 members)>]\n",
      "Pats ['folds', '1', 'training', '(1|2|3|4|5|6|7|8)']\n",
      "FINAL entries length: 8\n",
      "\n",
      "\n",
      " BIG DATASET Working on /Users/marina/Documents/PhD/research/astro_research/code/NADE/deepnade/red_wine.hdf5\n",
      "Entries /folds/1/training/9\n",
      "New entries [<HDF5 group \"/\" (2 members)>]\n",
      "Pats ['folds', '1', 'training', '9']\n",
      "FINAL entries length: 1\n",
      "\n",
      "\n",
      " BIG DATASET Working on /Users/marina/Documents/PhD/research/astro_research/code/NADE/deepnade/red_wine.hdf5\n",
      "Entries /folds/1/tests/.*\n",
      "New entries [<HDF5 group \"/\" (2 members)>]\n",
      "Pats ['folds', '1', 'tests', '.*']\n",
      "FINAL entries length: 1\n",
      "\n",
      "\n",
      " BIG DATASET Working on /var/folders/wv/_wh4dxyj3ng73fr13vk_n3700000gn/T/tmp1R3gLI\n",
      "Entries /folds/1/training/(1|2|3|4|5|6|7|8)\n",
      "New entries [<HDF5 group \"/\" (1 members)>]\n",
      "Pats ['folds', '1', 'training', '(1|2|3|4|5|6|7|8)']\n",
      "FINAL entries length: 8\n",
      "\n",
      "\n",
      " BIG DATASET Working on /var/folders/wv/_wh4dxyj3ng73fr13vk_n3700000gn/T/tmpYXq9Ba\n",
      "Entries /folds/1/training/9\n",
      "New entries [<HDF5 group \"/\" (1 members)>]\n",
      "Pats ['folds', '1', 'training', '9']\n",
      "FINAL entries length: 1\n",
      "\n",
      "\n",
      " BIG DATASET Working on /var/folders/wv/_wh4dxyj3ng73fr13vk_n3700000gn/T/tmpDpIdkl\n",
      "Entries /folds/1/tests/.*\n",
      "New entries [<HDF5 group \"/\" (1 members)>]\n",
      "Pats ['folds', '1', 'tests', '.*']\n",
      "FINAL entries length: 1\n",
      "\n",
      "\n",
      " BIG DATASET Working on /Users/marina/Documents/PhD/research/astro_research/code/NADE/deepnade/red_wine.hdf5.float64.masks.hdf5\n",
      "Entries masks/.*\n",
      "New entries [<HDF5 group \"/\" (1 members)>]\n",
      "Pats ['masks', '.*']\n",
      "FINAL entries length: 1000\n"
     ]
    },
    {
     "name": "stderr",
     "output_type": "stream",
     "text": [
      "../deepnade/buml/Data/BigDataset.py:103: H5pyDeprecationWarning: dataset.value has been deprecated. Use dataset[()] instead.\n",
      "  return np.array(self.files[element][index].value)  # , order='C')\n"
     ]
    }
   ],
   "source": [
    "training_dataset, validation_dataset, test_dataset, masks_dataset = prep_datasets(options, hdf5_backend)"
   ]
  },
  {
   "cell_type": "code",
   "execution_count": 6,
   "metadata": {},
   "outputs": [
    {
     "data": {
      "text/plain": [
       "1"
      ]
     },
     "execution_count": 6,
     "metadata": {},
     "output_type": "execute_result"
    }
   ],
   "source": [
    "n_visible = training_dataset.get_dimensionality(0)\n",
    "l = 1 if options.layerwise else options.hlayers\n",
    "l"
   ]
  },
  {
   "cell_type": "code",
   "execution_count": 7,
   "metadata": {},
   "outputs": [],
   "source": [
    "nade_class, nade, loss_function, validation_loss_measurement = set_loss(\n",
    "    options, l, n_visible, validation_dataset, masks_dataset)"
   ]
  },
  {
   "cell_type": "code",
   "execution_count": null,
   "metadata": {},
   "outputs": [],
   "source": []
  }
 ],
 "metadata": {
  "kernelspec": {
   "display_name": "nade",
   "language": "python",
   "name": "nade"
  },
  "language_info": {
   "codemirror_mode": {
    "name": "ipython",
    "version": 2
   },
   "file_extension": ".py",
   "mimetype": "text/x-python",
   "name": "python",
   "nbconvert_exporter": "python",
   "pygments_lexer": "ipython2",
   "version": "2.7.16"
  }
 },
 "nbformat": 4,
 "nbformat_minor": 4
}
