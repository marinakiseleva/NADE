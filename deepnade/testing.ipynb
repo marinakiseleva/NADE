{
 "cells": [
  {
   "cell_type": "markdown",
   "metadata": {},
   "source": [
    "## Convert THEx Data to HDF5\n",
    "1. load CSVs"
   ]
  },
  {
   "cell_type": "code",
   "execution_count": 1,
   "metadata": {},
   "outputs": [],
   "source": [
    "import pandas as pd\n",
    "# \n",
    "#  Data Note\n",
    "#  The following data comes from an initialized THEx MultiModel. \n",
    "#  So, it represents all rows that have valid values for the mags and colors\n",
    "#  \n",
    "dpath = \"/Users/marina/Documents/PhD/research/astro_research/data/testing/\"\n",
    "# Load CSVs of X and y\n",
    "X = pd.read_csv(dpath + \"X.csv\")\n",
    "y = pd.read_csv(dpath + \"y.csv\")"
   ]
  },
  {
   "cell_type": "markdown",
   "metadata": {},
   "source": [
    "## Save to HDF5 with same format as WINE dataset\n",
    "Hierarhcy:\n",
    "- all\n",
    "- folds\n",
    "    - 1\n",
    "        - tests\n",
    "            - 1\n",
    "        - training\n",
    "            - 1\n",
    "            - 2\n",
    "            - ...\n",
    "            - 8\n",
    "            - 9\n",
    "    - 2\n",
    "    - ...\n",
    "    - 9\n",
    "\n",
    "\n",
    "Usage:\n",
    "\n",
    "- Use folds/1/training/ 1 - 8 as training\n",
    "- Use folds/1/training/9 as validation\n",
    "- Use folds/1/testing/1 as testing\n"
   ]
  },
  {
   "cell_type": "code",
   "execution_count": 2,
   "metadata": {},
   "outputs": [],
   "source": [
    "# Save X of certain class to HDF5 File\n",
    "class_name = \"Unspecified Ia\"\n",
    "class_indices = y.loc[y['transient_type'].str.contains(class_name)].index\n",
    "class_X = X.iloc[class_indices]"
   ]
  },
  {
   "cell_type": "code",
   "execution_count": 11,
   "metadata": {},
   "outputs": [
    {
     "ename": "ImportError",
     "evalue": "No module named sklearn.model_selection",
     "output_type": "error",
     "traceback": [
      "\u001b[0;31m---------------------------------------------------------------------------\u001b[0m",
      "\u001b[0;31mImportError\u001b[0m                               Traceback (most recent call last)",
      "\u001b[0;32m<ipython-input-11-2e9706e50edf>\u001b[0m in \u001b[0;36m<module>\u001b[0;34m()\u001b[0m\n\u001b[0;32m----> 1\u001b[0;31m \u001b[0;32mfrom\u001b[0m \u001b[0msklearn\u001b[0m\u001b[0;34m.\u001b[0m\u001b[0mmodel_selection\u001b[0m \u001b[0;32mimport\u001b[0m \u001b[0mKFold\u001b[0m\u001b[0;34m\u001b[0m\u001b[0m\n\u001b[0m\u001b[1;32m      2\u001b[0m \u001b[0mkf\u001b[0m \u001b[0;34m=\u001b[0m \u001b[0mKFold\u001b[0m\u001b[0;34m(\u001b[0m\u001b[0mn_splits\u001b[0m\u001b[0;34m=\u001b[0m\u001b[0;36m2\u001b[0m\u001b[0;34m)\u001b[0m\u001b[0;34m\u001b[0m\u001b[0m\n\u001b[1;32m      3\u001b[0m \u001b[0;32mfor\u001b[0m \u001b[0mtrain_index\u001b[0m\u001b[0;34m,\u001b[0m \u001b[0mtest_index\u001b[0m \u001b[0;32min\u001b[0m \u001b[0mkf\u001b[0m\u001b[0;34m.\u001b[0m\u001b[0msplit\u001b[0m\u001b[0;34m(\u001b[0m\u001b[0mclass_X\u001b[0m\u001b[0;34m)\u001b[0m\u001b[0;34m:\u001b[0m\u001b[0;34m\u001b[0m\u001b[0m\n\u001b[1;32m      4\u001b[0m     \u001b[0;32mprint\u001b[0m\u001b[0;34m(\u001b[0m\u001b[0mtrain_index\u001b[0m\u001b[0;34m)\u001b[0m\u001b[0;34m\u001b[0m\u001b[0m\n",
      "\u001b[0;31mImportError\u001b[0m: No module named sklearn.model_selection"
     ]
    }
   ],
   "source": [
    "from sklearn.model_selection import KFold\n",
    "kf = KFold(n_splits=2)\n",
    "for train_index, test_index in kf.split(class_X):\n",
    "    print(train_index)"
   ]
  },
  {
   "cell_type": "code",
   "execution_count": 9,
   "metadata": {},
   "outputs": [],
   "source": [
    "import pandas as pd\n",
    "\n",
    "store = pd.HDFStore('store.h5')\n",
    "store.root\n",
    "store['df1']=class_X\n",
    "store['group/df1']=class_X\n"
   ]
  },
  {
   "cell_type": "code",
   "execution_count": null,
   "metadata": {},
   "outputs": [],
   "source": []
  },
  {
   "cell_type": "code",
   "execution_count": null,
   "metadata": {},
   "outputs": [],
   "source": [
    "X.to_hdf(dpath+'all_thex_data.hdf5', key='thex_X', mode='w')\n",
    "\n",
    "X.to_hdf(dpath + class_name.replace(\" \", \"_\") + '_X.hdf5', key='thex_X', mode='w')"
   ]
  },
  {
   "cell_type": "code",
   "execution_count": null,
   "metadata": {},
   "outputs": [],
   "source": []
  },
  {
   "cell_type": "markdown",
   "metadata": {},
   "source": [
    "Make sure BigDataset works with this HDF5 File"
   ]
  },
  {
   "cell_type": "code",
   "execution_count": null,
   "metadata": {},
   "outputs": [],
   "source": [
    "# Convert use h5py\n",
    "import numpy as np\n",
    "import h5py\n",
    "\n",
    "csv_data = np.genfromtxt(dpath + \"X.csv\", delimiter=',', dtype=None, names=True, encoding=None)\n",
    "print (csv_data.dtype)\n",
    "\n",
    "# with h5py.File('SO_57120995.h5','w') as h5f :\n",
    "\n",
    "#     for row in csv_data:   \n",
    "#         date=row[0]\n",
    "#         grp = h5f.require_group(date)\n",
    "\n",
    "#         firm=row[1]\n",
    "#     # convert row data to get list of all valuei entries\n",
    "#         row_data=row.item()[2:]\n",
    "#         h5f[date].create_dataset(firm,data=row_data)"
   ]
  },
  {
   "cell_type": "code",
   "execution_count": null,
   "metadata": {},
   "outputs": [],
   "source": [
    "import h5py\n",
    "f = h5py.File(dpath + \"Unspecified_Ia_X.hdf5\", \"r\")"
   ]
  },
  {
   "cell_type": "markdown",
   "metadata": {},
   "source": [
    "## Wine Dataset Study"
   ]
  },
  {
   "cell_type": "markdown",
   "metadata": {},
   "source": [
    "Outcomes\n",
    "\n",
    "1. 159 samples in each training fold\n",
    "2. 168 in validation \n",
    "3. 159 in testing\n",
    "\n",
    "There is OVERLAP among all 3. So testing data inside of training and validation.\n",
    "46/159 testing samples in the whole training set\n",
    "9/159 testing samples in validation \n",
    "\n",
    "And overlap in training/validation.\n",
    "\n",
    "wine dataset HDF5 data has the following hierarchy:\n",
    "- all\n",
    "- folds\n",
    "    - 1\n",
    "        - tests\n",
    "            - 1\n",
    "        - training\n",
    "            - 1\n",
    "            - 2\n",
    "            - ...\n",
    "            - 8\n",
    "            - 9\n",
    "    - 2\n",
    "    - ...\n",
    "    - 9"
   ]
  },
  {
   "cell_type": "markdown",
   "metadata": {},
   "source": [
    "### Examine if there is any data overlap in training/validation/testing"
   ]
  },
  {
   "cell_type": "code",
   "execution_count": null,
   "metadata": {},
   "outputs": [],
   "source": [
    "import sys\n",
    "sys.path\n",
    "sys.path.append('buml') \n",
    "import os\n",
    "import Data.utils\n",
    "os.environ[\"DATASETSPATH\"]=\"\"\n",
    "data_source = \"red_wine.hdf5\"\n",
    "training = \"/folds/1/training/(1|2|3|4|5|6|7|8)\"\n",
    "dataset_file = os.path.join(os.environ[\"DATASETSPATH\"], data_source)\n",
    "training_dataset = Data.BigDataset(dataset_file, training, \"data\")\n",
    "testing_dataset = Data.BigDataset(dataset_file, \"/folds/1/tests/.*\", \"data\")\n",
    "validation_dataset = Data.BigDataset(dataset_file, \"/folds/1/training/9\", \"data\")"
   ]
  },
  {
   "cell_type": "code",
   "execution_count": 190,
   "metadata": {},
   "outputs": [
    {
     "name": "stdout",
     "output_type": "stream",
     "text": [
      "Overlap in testing and training 46\n"
     ]
    }
   ],
   "source": [
    "# Make sure no testing/training/validation overlaps\n",
    "training_indices= [0,1,2,3,4,5,6,7]\n",
    "validation_index = [8]\n",
    "\n",
    "test_overlap_count = 0\n",
    "for i in range(testing_fold.shape[0]):\n",
    "    test_sample = testing_fold[i]\n",
    "    # No overlap with training/testing\n",
    "    total_training = 0 #to keep track of later.\n",
    "    for ti in training_indices:\n",
    "        training_fold = training_dataset.get_file(element = 0, index= ti)\n",
    "        for row in training_fold:\n",
    "            total_training +=1\n",
    "            if (row == test_sample).all():\n",
    "                test_overlap_count+=1\n",
    "print(\"Overlap in testing and training \" + str(test_overlap_count))"
   ]
  },
  {
   "cell_type": "code",
   "execution_count": 192,
   "metadata": {},
   "outputs": [
    {
     "name": "stdout",
     "output_type": "stream",
     "text": [
      "Overlap in validation and testing 9\n"
     ]
    }
   ],
   "source": [
    "# No overlap with validation/testing\n",
    "validation_fold = validation_dataset.get_file(element = 0, index= 0)\n",
    "val_overlap_count = 0\n",
    "for i in range(testing_fold.shape[0]):\n",
    "    test_sample = testing_fold[i]\n",
    "    for row in validation_fold:\n",
    "        if (row == test_sample).all():\n",
    "            val_overlap_count+=1\n",
    "print(\"Overlap in validation and testing \" + str(val_overlap_count))"
   ]
  },
  {
   "cell_type": "code",
   "execution_count": 193,
   "metadata": {},
   "outputs": [
    {
     "name": "stdout",
     "output_type": "stream",
     "text": [
      "Number of matching rows in validation + training 41\n"
     ]
    }
   ],
   "source": [
    "# No overlap with training/validation\n",
    "matching_rows=0\n",
    "for i in range(validation_fold.shape[0]):\n",
    "    validation_sample = validation_fold[i]\n",
    "    for ti in training_indices:\n",
    "        training_fold = training_dataset.get_file(element = 0, index= ti)\n",
    "        for row in training_fold:\n",
    "            if (row == validation_sample).all():\n",
    "                matching_rows +=1\n",
    "print(\"Number of matching rows in validation + training \" + str(matching_rows))\n"
   ]
  },
  {
   "cell_type": "code",
   "execution_count": null,
   "metadata": {},
   "outputs": [],
   "source": [
    "print(\"Total rows in training \" + str(total_training))\n",
    "print(\"Total rows in validation \" + str(validation_fold.shape[0]))\n",
    "print(\"Total rows in testing \" + str(testing_fold.shape[0]))"
   ]
  },
  {
   "cell_type": "markdown",
   "metadata": {},
   "source": [
    "### Manually pulling down wine-dataset and manually examining entries "
   ]
  },
  {
   "cell_type": "code",
   "execution_count": null,
   "metadata": {},
   "outputs": [],
   "source": [
    "wine_f = h5py.File(\"red_wine.hdf5\", \"r\")\n",
    "# wine_f[\"/\"]\n",
    "\n",
    "element_names=\"data\"\n",
    "element_names = element_names if isinstance(element_names, tuple) else (element_names,)\n",
    "\n",
    "entries_regexp = \"/folds/1/training/(1|2|3|4|5|6|7|8)\" # Training \n",
    "# entries_regexp=\"/folds/1/tests/.*\"  # Testing \n",
    "# entries_regexp = \"/folds/1/training/9\"  # Validation \n",
    "pats = entries_regexp.split(\"/\")\n",
    "pats.remove(\"\")\n",
    "\n",
    "\"\"\"\n",
    "Coming up with entries:\n",
    "\n",
    "We pass in \"/folds/1/training/(1|2|3|4|5|6|7|8)\" as the 'entries_regexp' \n",
    "so we are saying to use folds 1-8 for training\n",
    "\n",
    "So, it selects the parts of the HDF5 dataset that are located at the part of the hierarhcy we\n",
    "are selecting, using the regexp. \n",
    "\n",
    "- Use folds/1/training/ 1 - 8 as training\n",
    "- Use folds/1/training/9 as validation\n",
    "- Use folds/1/testing/1 as testing\n",
    "\n",
    "\"\"\" \n",
    "import re\n",
    "entries = [wine_f[\"/\"]] \n",
    "for p in pats:\n",
    "    new_entries = []\n",
    "    for r in entries:\n",
    "        for k, v in r.items(): \n",
    "            # Seeing if value of this HDF5 is one of the desired patterns\n",
    "            if re.match(\"^%s$\" % p, str(k)):\n",
    "                new_entries.append(v)\n",
    "    entries = new_entries \n",
    "\n",
    "\n",
    "#### The above does the exact same thing as:\n",
    "# entries = [wine_f[\"/\"]]\n",
    "# for p in pats:\n",
    "#     entries = [v for r in entries for k,\n",
    "#                v in r.items() if re.match(\"^%s$\" % p, str(k))]"
   ]
  },
  {
   "cell_type": "markdown",
   "metadata": {},
   "source": [
    "## Match HDF5 Data to Wine dataset on Kaggle site\n",
    "This is to ensure these are the same dataset, and they do appear to be. "
   ]
  },
  {
   "cell_type": "markdown",
   "metadata": {},
   "source": [
    "OUTCOME:\n",
    "\n",
    "Data comes from wine dataset from Kaggle\n",
    "Input variables (based on physicochemical tests):\n",
    "1. fixed acidity (tartaric acid - g / dm^3)\n",
    "2. volatile acidity (acetic acid - g / dm^3)\n",
    "3. citric acid (g / dm^3)\n",
    "4. residual sugar (g / dm^3)\n",
    "5. chlorides (sodium chloride - g / dm^3\n",
    "6. free sulfur dioxide (mg / dm^3)\n",
    "7. total sulfur dioxide (mg / dm^3)\n",
    "8. density (g / cm^3)\n",
    "9. pH\n",
    "10. sulphates (potassium sulphate - g / dm3)\n",
    "11. alcohol (% by volume)\n",
    "\n",
    "Output variable (based on sensory data): \n",
    "1. quality (score between 0 and 10)"
   ]
  },
  {
   "cell_type": "code",
   "execution_count": null,
   "metadata": {},
   "outputs": [],
   "source": [
    "import sys\n",
    "sys.path\n",
    "sys.path.append('buml') \n",
    "import os\n",
    "import Data.utils\n",
    "os.environ[\"DATASETSPATH\"]=\"\"\n",
    "data_source = \"red_wine.hdf5\"\n",
    "training = \"/folds/1/training/(1|2|3|4|5|6|7|8)\"\n",
    "dataset_file = os.path.join(os.environ[\"DATASETSPATH\"], data_source)\n",
    "training_dataset = Data.BigDataset(dataset_file, training, \"data\")"
   ]
  },
  {
   "cell_type": "code",
   "execution_count": null,
   "metadata": {},
   "outputs": [],
   "source": [
    "# Get sample row and see if it is in other dataset\n",
    "training_fold_0 = training_dataset.get_file(element = 0, index= 0)\n",
    "sample_row = training_fold_0[0]\n",
    "sample_row.tolist()"
   ]
  },
  {
   "cell_type": "code",
   "execution_count": null,
   "metadata": {},
   "outputs": [],
   "source": [
    "import pandas as pd\n",
    "wine_test_path = \"~/Documents/PhD/research/astro_research/data/testing/wineQualityReds.csv\"\n",
    "wine_dataset = pd.read_csv(wine_test_path)\n",
    "\n",
    "train_wine_dataset = wine_dataset.drop(columns=['Unnamed: 0', 'quality'])"
   ]
  },
  {
   "cell_type": "code",
   "execution_count": null,
   "metadata": {},
   "outputs": [],
   "source": [
    "import numpy as np\n",
    "for index, row in train_wine_dataset.iterrows():\n",
    "    \n",
    "    rtol = 1e-05\n",
    "    atol = 1e-08\n",
    "    res = np.allclose(sample_row, row, rtol, atol) \n",
    "    if res:\n",
    "        print(row)\n",
    "        print(\"Row index match: \" + str(index))\n",
    "        \n",
    "        "
   ]
  },
  {
   "cell_type": "code",
   "execution_count": null,
   "metadata": {},
   "outputs": [],
   "source": [
    "# options, args =parser.parse_args([\"--theano\", \n",
    "#                                   \"--form\", \"MoG\", \n",
    "#                                   \"--dataset\", \"red_wine.hdf5\", \n",
    "#                                   \"--training_route\", \"/folds/1/training/(1|2|3|4|5|6|7|8)\",\n",
    "#                                  \"--validation_route\", \"/folds/1/training/9\",\n",
    "#                                  \"--test_route\", \"/folds/1/tests/.*\",\n",
    "#                                  \"--samples_name\", \"data\",\n",
    "#                                  \"--hlayers\", \"2\", # 2 hidden layers\n",
    "#                                   \"--layerwise\",\n",
    "#                                   \"--lr\", \"0.02\",\n",
    "#                                   \"--wd\", \"0.02\",\n",
    "#                                   \"--n_components\", \"10\",\n",
    "#                                   \"--epoch_size\", \"100\",\n",
    "#                                   \"--momentum\", \"0.9\",\n",
    "#                                   \"--units\", \"100\",\n",
    "#                                   \"--pretraining_epochs\", \"5\",\n",
    "#                                   \"--validation_loops\", \"20\",\n",
    "#                                   \"--epochs\", \"20\",\n",
    "#                                   \"--normalize\",\n",
    "#                                   \"--batch_size\", \"100\",\n",
    "#                                   \"--show_training_stop\", \"red_wine\"])\n",
    " "
   ]
  },
  {
   "cell_type": "code",
   "execution_count": null,
   "metadata": {},
   "outputs": [],
   "source": []
  },
  {
   "cell_type": "code",
   "execution_count": null,
   "metadata": {},
   "outputs": [],
   "source": []
  }
 ],
 "metadata": {
  "kernelspec": {
   "display_name": "nade",
   "language": "python",
   "name": "nade"
  },
  "language_info": {
   "codemirror_mode": {
    "name": "ipython",
    "version": 2
   },
   "file_extension": ".py",
   "mimetype": "text/x-python",
   "name": "python",
   "nbconvert_exporter": "python",
   "pygments_lexer": "ipython2",
   "version": "2.7.16"
  }
 },
 "nbformat": 4,
 "nbformat_minor": 4
}
