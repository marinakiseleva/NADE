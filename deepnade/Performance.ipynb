{
 "cells": [
  {
   "cell_type": "markdown",
   "metadata": {},
   "source": [
    "## Visualize performance results"
   ]
  },
  {
   "cell_type": "code",
   "execution_count": 9,
   "metadata": {},
   "outputs": [],
   "source": [
    "# Pull down output of model and correct labels\n",
    "# LABEL = \"transient_type\"\n",
    "LABEL = \"quality\"\n",
    "import pandas as pd\n",
    "test_path = \"/Users/marina/Documents/PhD/research/astro_research/data/testing/\"\n",
    "\n",
    "loglikelihoods = pd.read_csv(test_path + \"OUTPUT/\" + \"loglikelihoods.csv\")\n",
    "y = pd.read_csv(test_path + \"PROCESSED_DATA/\" + \"test_y.csv\")"
   ]
  },
  {
   "cell_type": "code",
   "execution_count": 10,
   "metadata": {},
   "outputs": [
    {
     "data": {
      "text/plain": [
       "{'4': {'FN': 4, 'FP': 7, 'TN': 143, 'TP': 1},\n",
       " '5': {'FN': 21, 'FP': 14, 'TN': 73, 'TP': 47},\n",
       " '6': {'FN': 16, 'FP': 22, 'TN': 70, 'TP': 47},\n",
       " '7': {'FN': 6, 'FP': 4, 'TN': 132, 'TP': 13}}"
      ]
     },
     "execution_count": 10,
     "metadata": {},
     "output_type": "execute_result"
    }
   ],
   "source": [
    "import numpy as np\n",
    "class_names = list(loglikelihoods)\n",
    "\n",
    "class_purities = {}\n",
    "# Purity is TP / (TP+FP)\n",
    "\n",
    "# Map from class name to TP, FP, FN, and TN rates in dict.\n",
    "class_mets = {cn : {\"TP\" : 0, \"TN\" : 0, \"FP\": 0, \"FN\" : 0} for cn in class_names}\n",
    "\n",
    "for class_name in class_names:\n",
    "    for index, loglikelihood in loglikelihoods.iterrows():\n",
    "        label = str(y.iloc[index][LABEL]) \n",
    "        values = loglikelihood.tolist() \n",
    "        max_class_index = values.index(max(values))\n",
    "        pred_class = class_names[max_class_index] \n",
    "        \n",
    "        \n",
    "        # this class is the label, and we predicted it as max\n",
    "        if label == class_name and pred_class == label:\n",
    "            class_mets[class_name][\"TP\"]+=1\n",
    "        \n",
    "        # this class is not the label, but it was the max likelihood\n",
    "        elif label != class_name and pred_class == class_name:\n",
    "            class_mets[class_name][\"FP\"]+=1\n",
    "        \n",
    "        # this class is not the label, and its not the max (TN)\n",
    "        elif label != class_name and pred_class != class_name:\n",
    "            class_mets[class_name][\"TN\"]+=1\n",
    "        \n",
    "        # this class is label, but its not the max (FN)\n",
    "        elif label == class_name and pred_class != class_name:\n",
    "            class_mets[class_name][\"FN\"]+=1\n",
    "\n",
    "        \n",
    "            \n",
    "class_mets"
   ]
  },
  {
   "cell_type": "code",
   "execution_count": 11,
   "metadata": {},
   "outputs": [
    {
     "name": "stdout",
     "output_type": "stream",
     "text": [
      "Purities\n",
      "4 purity : 12.5%\n",
      "5 purity : 77.0%\n",
      "6 purity : 68.1%\n",
      "7 purity : 76.5%\n"
     ]
    }
   ],
   "source": [
    "print(\"Purities\")\n",
    "# Purity TP / (TP+FP)\n",
    "classes = [\"4\",\"5\",\"6\",\"7\"]\n",
    "for cname in classes:\n",
    "    m = class_mets[cname]\n",
    "    p=m[\"TP\"] / (m[\"TP\"] + m[\"FP\"] +0.0)\n",
    "    print(cname + ' purity : ' + str(round(p*100,1)) + \"%\")"
   ]
  },
  {
   "cell_type": "code",
   "execution_count": null,
   "metadata": {},
   "outputs": [],
   "source": []
  }
 ],
 "metadata": {
  "kernelspec": {
   "display_name": "nade",
   "language": "python",
   "name": "nade"
  },
  "language_info": {
   "codemirror_mode": {
    "name": "ipython",
    "version": 2
   },
   "file_extension": ".py",
   "mimetype": "text/x-python",
   "name": "python",
   "nbconvert_exporter": "python",
   "pygments_lexer": "ipython2",
   "version": "2.7.16"
  }
 },
 "nbformat": 4,
 "nbformat_minor": 4
}
