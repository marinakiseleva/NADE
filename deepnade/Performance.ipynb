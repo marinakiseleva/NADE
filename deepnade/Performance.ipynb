{
 "cells": [
  {
   "cell_type": "markdown",
   "metadata": {},
   "source": [
    "## Visualize performance results"
   ]
  },
  {
   "cell_type": "code",
   "execution_count": 47,
   "metadata": {},
   "outputs": [],
   "source": [
    "# Pull down output of model and correct labels\n",
    "import pandas as pd\n",
    "test_path = \"/Users/marina/Documents/PhD/research/astro_research/data/testing/\"\n",
    "\n",
    "lls = pd.read_csv(test_path + \"OUTPUT/\" + \"nade_lls.csv\")"
   ]
  },
  {
   "cell_type": "code",
   "execution_count": 48,
   "metadata": {},
   "outputs": [],
   "source": [
    "y = pd.read_csv(test_path + \"PROCESSED_DATA/\" + \"test_y.csv\")"
   ]
  },
  {
   "cell_type": "code",
   "execution_count": 50,
   "metadata": {},
   "outputs": [
    {
     "data": {
      "text/plain": [
       "{'Unspecified II': {'FN': 284, 'FP': 0, 'TN': 672, 'TP': 0},\n",
       " 'Unspecified Ia': {'FN': 0, 'FP': 284, 'TN': 0, 'TP': 672}}"
      ]
     },
     "execution_count": 50,
     "metadata": {},
     "output_type": "execute_result"
    }
   ],
   "source": [
    "\n",
    "class_names = list(lls)\n",
    "\n",
    "class_purities = {}\n",
    "# Purity is TP / (TP+FP)\n",
    "\n",
    "# Map from class name to TP, FP, FN, and TN rates in dict.\n",
    "class_mets = {cn : {\"TP\" : 0, \"TN\" : 0, \"FP\": 0, \"FN\" : 0} for cn in class_names}\n",
    "\n",
    "for class_name in class_names:\n",
    "    for index, ll in lls.iterrows():\n",
    "        label=y.iloc[index]['transient_type']\n",
    "        values = ll.tolist()\n",
    "        max_class_index = values.index(max(values))\n",
    "        pred_class = class_names[max_class_index] \n",
    "        \n",
    "        \n",
    "        # this class is the label, and we predicted it as max\n",
    "        if label == class_name and pred_class == label:\n",
    "            class_mets[class_name][\"TP\"]+=1\n",
    "        \n",
    "        # this class is not the label, but it was the max likelihood\n",
    "        elif label != class_name and pred_class == class_name:\n",
    "            class_mets[class_name][\"FP\"]+=1\n",
    "        \n",
    "        # this class is not the label, and its not the max (TN)\n",
    "        elif label != class_name and pred_class != class_name:\n",
    "            class_mets[class_name][\"TN\"]+=1\n",
    "        \n",
    "        # this class is label, but its not the max (FN)\n",
    "        elif label == class_name and pred_class != class_name:\n",
    "            class_mets[class_name][\"FN\"]+=1\n",
    "\n",
    "        \n",
    "            \n",
    "class_mets"
   ]
  },
  {
   "cell_type": "code",
   "execution_count": null,
   "metadata": {},
   "outputs": [],
   "source": []
  }
 ],
 "metadata": {
  "kernelspec": {
   "display_name": "nade",
   "language": "python",
   "name": "nade"
  },
  "language_info": {
   "codemirror_mode": {
    "name": "ipython",
    "version": 2
   },
   "file_extension": ".py",
   "mimetype": "text/x-python",
   "name": "python",
   "nbconvert_exporter": "python",
   "pygments_lexer": "ipython2",
   "version": "2.7.16"
  }
 },
 "nbformat": 4,
 "nbformat_minor": 4
}
