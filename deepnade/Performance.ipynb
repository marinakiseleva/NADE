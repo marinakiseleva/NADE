{
 "cells": [
  {
   "cell_type": "markdown",
   "metadata": {},
   "source": [
    "## Visualize performance results"
   ]
  },
  {
   "cell_type": "code",
   "execution_count": 12,
   "metadata": {},
   "outputs": [],
   "source": [
    "# Pull down output of model and correct labels\n",
    "import pandas as pd\n",
    "test_path = \"/Users/marina/Documents/PhD/research/astro_research/data/testing/\"\n",
    "\n",
    "loglikelihoods = pd.read_csv(test_path + \"OUTPUT/\" + \"loglikelihoods.csv\")\n",
    "y = pd.read_csv(test_path + \"PROCESSED_DATA/\" + \"test_y.csv\")"
   ]
  },
  {
   "cell_type": "code",
   "execution_count": 14,
   "metadata": {},
   "outputs": [
    {
     "data": {
      "text/plain": [
       "{'cat': {'FN': 15, 'FP': 4, 'TN': 56, 'TP': 15},\n",
       " 'dog': {'FN': 4, 'FP': 19, 'TN': 41, 'TP': 26},\n",
       " 'mouse': {'FN': 7, 'FP': 3, 'TN': 57, 'TP': 23}}"
      ]
     },
     "execution_count": 14,
     "metadata": {},
     "output_type": "execute_result"
    }
   ],
   "source": [
    "\n",
    "class_names = list(loglikelihoods)\n",
    "\n",
    "class_purities = {}\n",
    "# Purity is TP / (TP+FP)\n",
    "\n",
    "# Map from class name to TP, FP, FN, and TN rates in dict.\n",
    "class_mets = {cn : {\"TP\" : 0, \"TN\" : 0, \"FP\": 0, \"FN\" : 0} for cn in class_names}\n",
    "\n",
    "for class_name in class_names:\n",
    "    for index, loglikelihood in loglikelihoods.iterrows():\n",
    "        label = y.iloc[index]['transient_type']\n",
    "        values = loglikelihood.tolist()\n",
    "        max_class_index = values.index(max(values))\n",
    "        pred_class = class_names[max_class_index] \n",
    "        \n",
    "        \n",
    "        # this class is the label, and we predicted it as max\n",
    "        if label == class_name and pred_class == label:\n",
    "            class_mets[class_name][\"TP\"]+=1\n",
    "        \n",
    "        # this class is not the label, but it was the max likelihood\n",
    "        elif label != class_name and pred_class == class_name:\n",
    "            class_mets[class_name][\"FP\"]+=1\n",
    "        \n",
    "        # this class is not the label, and its not the max (TN)\n",
    "        elif label != class_name and pred_class != class_name:\n",
    "            class_mets[class_name][\"TN\"]+=1\n",
    "        \n",
    "        # this class is label, but its not the max (FN)\n",
    "        elif label == class_name and pred_class != class_name:\n",
    "            class_mets[class_name][\"FN\"]+=1\n",
    "\n",
    "        \n",
    "            \n",
    "class_mets"
   ]
  },
  {
   "cell_type": "code",
   "execution_count": 15,
   "metadata": {},
   "outputs": [
    {
     "name": "stdout",
     "output_type": "stream",
     "text": [
      "Purities\n",
      "mouse purity : 0.884615384615\n",
      "dog purity : 0.577777777778\n",
      "cat purity : 0.789473684211\n"
     ]
    }
   ],
   "source": [
    "print(\"Purities\")\n",
    "# Purity TP / (TP+FP)\n",
    "for cname in class_mets.keys():\n",
    "    m = class_mets[cname]\n",
    "    p=m[\"TP\"] / (m[\"TP\"] + m[\"FP\"] +0.0)\n",
    "    print(cname + ' purity : ' + str(p))"
   ]
  },
  {
   "cell_type": "code",
   "execution_count": 16,
   "metadata": {},
   "outputs": [
    {
     "name": "stdout",
     "output_type": "stream",
     "text": [
      "Accuracy 0.711111111111\n"
     ]
    }
   ],
   "source": [
    "a=0\n",
    "for cname in class_mets.keys():\n",
    "    a+=class_mets[cname][\"TP\"]\n",
    "a\n",
    "print(\"Accuracy \" + str(a/(y.shape[0]+0.0)))"
   ]
  },
  {
   "cell_type": "code",
   "execution_count": null,
   "metadata": {},
   "outputs": [],
   "source": []
  }
 ],
 "metadata": {
  "kernelspec": {
   "display_name": "nade",
   "language": "python",
   "name": "nade"
  },
  "language_info": {
   "codemirror_mode": {
    "name": "ipython",
    "version": 2
   },
   "file_extension": ".py",
   "mimetype": "text/x-python",
   "name": "python",
   "nbconvert_exporter": "python",
   "pygments_lexer": "ipython2",
   "version": "2.7.16"
  }
 },
 "nbformat": 4,
 "nbformat_minor": 4
}
